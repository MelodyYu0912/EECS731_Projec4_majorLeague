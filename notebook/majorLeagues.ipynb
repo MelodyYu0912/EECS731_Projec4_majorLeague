{
 "cells": [
  {
   "cell_type": "markdown",
   "metadata": {},
   "source": [
    "# NFL Score Predictions"
   ]
  },
  {
   "cell_type": "markdown",
   "metadata": {},
   "source": [
    "## 0. Import libraries, Read in Datasets"
   ]
  },
  {
   "cell_type": "code",
   "execution_count": 1,
   "metadata": {},
   "outputs": [],
   "source": [
    "import numpy as np\n",
    "import pandas as pd\n",
    "import matplotlib.pyplot as plt\n",
    "\n",
    "data = pd.read_csv('../data/nfl_games.csv')\n",
    "data = data.dropna()"
   ]
  },
  {
   "cell_type": "markdown",
   "metadata": {},
   "source": [
    "## 0.2 Adding a feature\n",
    "- score_diff is added to the data set as it could be helpful in indicating if team1 won and the points they won/lost by"
   ]
  },
  {
   "cell_type": "code",
   "execution_count": 2,
   "metadata": {},
   "outputs": [
    {
     "data": {
      "text/html": [
       "<div>\n",
       "<style scoped>\n",
       "    .dataframe tbody tr th:only-of-type {\n",
       "        vertical-align: middle;\n",
       "    }\n",
       "\n",
       "    .dataframe tbody tr th {\n",
       "        vertical-align: top;\n",
       "    }\n",
       "\n",
       "    .dataframe thead th {\n",
       "        text-align: right;\n",
       "    }\n",
       "</style>\n",
       "<table border=\"1\" class=\"dataframe\">\n",
       "  <thead>\n",
       "    <tr style=\"text-align: right;\">\n",
       "      <th></th>\n",
       "      <th>date</th>\n",
       "      <th>season</th>\n",
       "      <th>neutral</th>\n",
       "      <th>playoff</th>\n",
       "      <th>team1</th>\n",
       "      <th>team2</th>\n",
       "      <th>elo1</th>\n",
       "      <th>elo2</th>\n",
       "      <th>elo_prob1</th>\n",
       "      <th>score1</th>\n",
       "      <th>score2</th>\n",
       "      <th>score_diff</th>\n",
       "      <th>result1</th>\n",
       "    </tr>\n",
       "  </thead>\n",
       "  <tbody>\n",
       "    <tr>\n",
       "      <td>0</td>\n",
       "      <td>1920-09-26</td>\n",
       "      <td>1920</td>\n",
       "      <td>0</td>\n",
       "      <td>0</td>\n",
       "      <td>RII</td>\n",
       "      <td>STP</td>\n",
       "      <td>1503.947000</td>\n",
       "      <td>1300.000000</td>\n",
       "      <td>0.824651</td>\n",
       "      <td>48</td>\n",
       "      <td>0</td>\n",
       "      <td>48</td>\n",
       "      <td>1.0</td>\n",
       "    </tr>\n",
       "    <tr>\n",
       "      <td>1</td>\n",
       "      <td>1920-10-03</td>\n",
       "      <td>1920</td>\n",
       "      <td>0</td>\n",
       "      <td>0</td>\n",
       "      <td>AKR</td>\n",
       "      <td>WHE</td>\n",
       "      <td>1503.420000</td>\n",
       "      <td>1300.000000</td>\n",
       "      <td>0.824212</td>\n",
       "      <td>43</td>\n",
       "      <td>0</td>\n",
       "      <td>43</td>\n",
       "      <td>1.0</td>\n",
       "    </tr>\n",
       "    <tr>\n",
       "      <td>2</td>\n",
       "      <td>1920-10-03</td>\n",
       "      <td>1920</td>\n",
       "      <td>0</td>\n",
       "      <td>0</td>\n",
       "      <td>RCH</td>\n",
       "      <td>ABU</td>\n",
       "      <td>1503.420000</td>\n",
       "      <td>1300.000000</td>\n",
       "      <td>0.824212</td>\n",
       "      <td>10</td>\n",
       "      <td>0</td>\n",
       "      <td>10</td>\n",
       "      <td>1.0</td>\n",
       "    </tr>\n",
       "    <tr>\n",
       "      <td>3</td>\n",
       "      <td>1920-10-03</td>\n",
       "      <td>1920</td>\n",
       "      <td>0</td>\n",
       "      <td>0</td>\n",
       "      <td>DAY</td>\n",
       "      <td>COL</td>\n",
       "      <td>1493.002000</td>\n",
       "      <td>1504.908000</td>\n",
       "      <td>0.575819</td>\n",
       "      <td>14</td>\n",
       "      <td>0</td>\n",
       "      <td>14</td>\n",
       "      <td>1.0</td>\n",
       "    </tr>\n",
       "    <tr>\n",
       "      <td>4</td>\n",
       "      <td>1920-10-03</td>\n",
       "      <td>1920</td>\n",
       "      <td>0</td>\n",
       "      <td>0</td>\n",
       "      <td>RII</td>\n",
       "      <td>MUN</td>\n",
       "      <td>1516.108000</td>\n",
       "      <td>1478.004000</td>\n",
       "      <td>0.644171</td>\n",
       "      <td>45</td>\n",
       "      <td>0</td>\n",
       "      <td>45</td>\n",
       "      <td>1.0</td>\n",
       "    </tr>\n",
       "    <tr>\n",
       "      <td>...</td>\n",
       "      <td>...</td>\n",
       "      <td>...</td>\n",
       "      <td>...</td>\n",
       "      <td>...</td>\n",
       "      <td>...</td>\n",
       "      <td>...</td>\n",
       "      <td>...</td>\n",
       "      <td>...</td>\n",
       "      <td>...</td>\n",
       "      <td>...</td>\n",
       "      <td>...</td>\n",
       "      <td>...</td>\n",
       "      <td>...</td>\n",
       "    </tr>\n",
       "    <tr>\n",
       "      <td>16269</td>\n",
       "      <td>2019-01-13</td>\n",
       "      <td>2018</td>\n",
       "      <td>0</td>\n",
       "      <td>1</td>\n",
       "      <td>NE</td>\n",
       "      <td>LAC</td>\n",
       "      <td>1640.171960</td>\n",
       "      <td>1647.624483</td>\n",
       "      <td>0.582068</td>\n",
       "      <td>41</td>\n",
       "      <td>28</td>\n",
       "      <td>13</td>\n",
       "      <td>1.0</td>\n",
       "    </tr>\n",
       "    <tr>\n",
       "      <td>16270</td>\n",
       "      <td>2019-01-13</td>\n",
       "      <td>2018</td>\n",
       "      <td>0</td>\n",
       "      <td>1</td>\n",
       "      <td>NO</td>\n",
       "      <td>PHI</td>\n",
       "      <td>1669.105861</td>\n",
       "      <td>1633.114673</td>\n",
       "      <td>0.641378</td>\n",
       "      <td>20</td>\n",
       "      <td>14</td>\n",
       "      <td>6</td>\n",
       "      <td>1.0</td>\n",
       "    </tr>\n",
       "    <tr>\n",
       "      <td>16271</td>\n",
       "      <td>2019-01-20</td>\n",
       "      <td>2018</td>\n",
       "      <td>0</td>\n",
       "      <td>1</td>\n",
       "      <td>NO</td>\n",
       "      <td>LAR</td>\n",
       "      <td>1682.450194</td>\n",
       "      <td>1648.424105</td>\n",
       "      <td>0.638772</td>\n",
       "      <td>23</td>\n",
       "      <td>26</td>\n",
       "      <td>-3</td>\n",
       "      <td>0.0</td>\n",
       "    </tr>\n",
       "    <tr>\n",
       "      <td>16272</td>\n",
       "      <td>2019-01-20</td>\n",
       "      <td>2018</td>\n",
       "      <td>0</td>\n",
       "      <td>1</td>\n",
       "      <td>KC</td>\n",
       "      <td>NE</td>\n",
       "      <td>1675.286412</td>\n",
       "      <td>1661.668566</td>\n",
       "      <td>0.611248</td>\n",
       "      <td>31</td>\n",
       "      <td>37</td>\n",
       "      <td>-6</td>\n",
       "      <td>0.0</td>\n",
       "    </tr>\n",
       "    <tr>\n",
       "      <td>16273</td>\n",
       "      <td>2019-02-03</td>\n",
       "      <td>2018</td>\n",
       "      <td>1</td>\n",
       "      <td>1</td>\n",
       "      <td>LAR</td>\n",
       "      <td>NE</td>\n",
       "      <td>1666.969395</td>\n",
       "      <td>1686.338837</td>\n",
       "      <td>0.472154</td>\n",
       "      <td>3</td>\n",
       "      <td>13</td>\n",
       "      <td>-10</td>\n",
       "      <td>0.0</td>\n",
       "    </tr>\n",
       "  </tbody>\n",
       "</table>\n",
       "<p>16274 rows × 13 columns</p>\n",
       "</div>"
      ],
      "text/plain": [
       "             date  season  neutral  playoff team1 team2         elo1  \\\n",
       "0      1920-09-26    1920        0        0   RII   STP  1503.947000   \n",
       "1      1920-10-03    1920        0        0   AKR   WHE  1503.420000   \n",
       "2      1920-10-03    1920        0        0   RCH   ABU  1503.420000   \n",
       "3      1920-10-03    1920        0        0   DAY   COL  1493.002000   \n",
       "4      1920-10-03    1920        0        0   RII   MUN  1516.108000   \n",
       "...           ...     ...      ...      ...   ...   ...          ...   \n",
       "16269  2019-01-13    2018        0        1    NE   LAC  1640.171960   \n",
       "16270  2019-01-13    2018        0        1    NO   PHI  1669.105861   \n",
       "16271  2019-01-20    2018        0        1    NO   LAR  1682.450194   \n",
       "16272  2019-01-20    2018        0        1    KC    NE  1675.286412   \n",
       "16273  2019-02-03    2018        1        1   LAR    NE  1666.969395   \n",
       "\n",
       "              elo2  elo_prob1  score1  score2  score_diff  result1  \n",
       "0      1300.000000   0.824651      48       0          48      1.0  \n",
       "1      1300.000000   0.824212      43       0          43      1.0  \n",
       "2      1300.000000   0.824212      10       0          10      1.0  \n",
       "3      1504.908000   0.575819      14       0          14      1.0  \n",
       "4      1478.004000   0.644171      45       0          45      1.0  \n",
       "...            ...        ...     ...     ...         ...      ...  \n",
       "16269  1647.624483   0.582068      41      28          13      1.0  \n",
       "16270  1633.114673   0.641378      20      14           6      1.0  \n",
       "16271  1648.424105   0.638772      23      26          -3      0.0  \n",
       "16272  1661.668566   0.611248      31      37          -6      0.0  \n",
       "16273  1686.338837   0.472154       3      13         -10      0.0  \n",
       "\n",
       "[16274 rows x 13 columns]"
      ]
     },
     "execution_count": 2,
     "metadata": {},
     "output_type": "execute_result"
    }
   ],
   "source": [
    "score_diff = data['score1']-data['score2']\n",
    "data_2 = data\n",
    "data_2.insert(11, \"score_diff\", score_diff)\n",
    "data_2"
   ]
  },
  {
   "cell_type": "markdown",
   "metadata": {},
   "source": [
    "## Ⅰ.Exploratory data analysis"
   ]
  },
  {
   "cell_type": "markdown",
   "metadata": {},
   "source": [
    "###  1. Univariate : result1\n",
    "- Counting and ploting the result of each game\n",
    "- 1 indicates team1 winning & vice versa"
   ]
  },
  {
   "cell_type": "code",
   "execution_count": 3,
   "metadata": {},
   "outputs": [
    {
     "data": {
      "image/png": "[encoded data removed]",
      "text/plain": [
       "<Figure size 1440x72 with 1 Axes>"
      ]
     },
     "metadata": {},
     "output_type": "display_data"
    }
   ],
   "source": [
    "import math\n",
    "import seaborn as sns\n",
    "\n",
    "dataset_bin = pd.DataFrame()\n",
    "dataset_bin['result1'] = data_2['result1']\n",
    "\n",
    "plt.style.use('seaborn-whitegrid')\n",
    "fig = plt.figure(figsize=(20,1)) \n",
    "sns.countplot(y=\"result1\", data=dataset_bin);"
   ]
  },
  {
   "cell_type": "markdown",
   "metadata": {},
   "source": [
    "### 2. Univariate : elo_prob1\n",
    "- Ploting the distribution of the probability for team1 to win"
   ]
  },
  {
   "cell_type": "code",
   "execution_count": 4,
   "metadata": {},
   "outputs": [
    {
     "data": {
      "image/png": "[encoded data removed]",
      "text/plain": [
       "<Figure size 1440x360 with 1 Axes>"
      ]
     },
     "metadata": {},
     "output_type": "display_data"
    }
   ],
   "source": [
    "dataset_bin['elo_prob1'] = pd.cut(data_2['elo_prob1'], 10)\n",
    "\n",
    "plt.style.use('seaborn-whitegrid')\n",
    "fig = plt.figure(figsize=(20,5)) \n",
    "sns.countplot(y=\"elo_prob1\", data=dataset_bin);"
   ]
  },
  {
   "cell_type": "markdown",
   "metadata": {},
   "source": [
    "#### Conclusion:\n",
    "- Idealy, the distribution of 0s and 1s in result1, which indicates whether team1 won, should roughly be even, since it is not indicated that team1 has advantage over team2 in the given data set. However, from the graph, the times team1 won is a lot more than they lose.\n",
    "- Combined with graph2, which count the probablity of team1 winning, we found that the majority of the probablity falls into the range 0.431 - 0.791. It indicates that most of time, team1 has a better chance to win, which verify the conclusion we had from graph1."
   ]
  },
  {
   "cell_type": "markdown",
   "metadata": {},
   "source": [
    "### 3. Bi-variate: elo_prob1 vs. score_diff\n",
    "- Explore the realation between elo_prob1 and score_diff"
   ]
  },
  {
   "cell_type": "code",
   "execution_count": 5,
   "metadata": {},
   "outputs": [
    {
     "data": {
      "text/plain": [
       "<matplotlib.collections.PathCollection at 0x26e317c9d48>"
      ]
     },
     "execution_count": 5,
     "metadata": {},
     "output_type": "execute_result"
    },
    {
     "data": {
      "image/png": "[encoded data removed]",
      "text/plain": [
       "<Figure size 720x720 with 1 Axes>"
      ]
     },
     "metadata": {},
     "output_type": "display_data"
    }
   ],
   "source": [
    "f, axs = plt.subplots(1,1,figsize=(10,10))\n",
    "plt.subplot(311)\n",
    "plt.xlabel(\"elo_prob1\")\n",
    "plt.ylabel(\"score_diff\")\n",
    "plt.scatter(data_2.elo_prob1, data_2.score_diff)"
   ]
  },
  {
   "cell_type": "markdown",
   "metadata": {},
   "source": [
    "#### Conclusion\n",
    "- As the win probablity of team1 increases, the score_diff, which calculated by team1_score - team2_score, is also increasing. \n",
    "- It can be concluded that the score_diff is positively proportional to the elo_prob1."
   ]
  },
  {
   "cell_type": "markdown",
   "metadata": {},
   "source": [
    "### 4. Bi-variate: season vs. score_diff\n",
    "- Explore the realtion between the season and score_diff"
   ]
  },
  {
   "cell_type": "code",
   "execution_count": 6,
   "metadata": {},
   "outputs": [
    {
     "data": {
      "text/plain": [
       "<matplotlib.collections.PathCollection at 0x26e316bf448>"
      ]
     },
     "execution_count": 6,
     "metadata": {},
     "output_type": "execute_result"
    },
    {
     "data": {
      "image/png": "[encoded data removed]",
      "text/plain": [
       "<Figure size 720x720 with 1 Axes>"
      ]
     },
     "metadata": {},
     "output_type": "display_data"
    }
   ],
   "source": [
    "f, axs = plt.subplots(1,1,figsize=(10,10))\n",
    "plt.subplot(311)\n",
    "plt.xlabel(\"season\")\n",
    "plt.ylabel(\"score_diff\")\n",
    "plt.scatter(data_2.season, data_2.score_diff)"
   ]
  },
  {
   "cell_type": "markdown",
   "metadata": {},
   "source": [
    "#### Conclusion\n",
    "- Since the graph is very scattered, it can be concluded that season has little relation the score of the game and has little contribution when predicting the score given two teams."
   ]
  },
  {
   "cell_type": "markdown",
   "metadata": {},
   "source": [
    "## Ⅱ. Regression Model"
   ]
  },
  {
   "cell_type": "markdown",
   "metadata": {},
   "source": [
    "### 0. Remove useless information"
   ]
  },
  {
   "cell_type": "code",
   "execution_count": 7,
   "metadata": {},
   "outputs": [],
   "source": [
    "del data_2[\"score_diff\"]\n",
    "del data_2[\"result1\"]\n",
    "del data_2[\"date\"]\n",
    "del data_2[\"season\"]\n",
    "del data_2[\"neutral\"]\n",
    "del data_2[\"playoff\"]"
   ]
  },
  {
   "cell_type": "markdown",
   "metadata": {},
   "source": [
    "### 0.2 Label Encoding"
   ]
  },
  {
   "cell_type": "code",
   "execution_count": 8,
   "metadata": {},
   "outputs": [
    {
     "data": {
      "text/html": [
       "<div>\n",
       "<style scoped>\n",
       "    .dataframe tbody tr th:only-of-type {\n",
       "        vertical-align: middle;\n",
       "    }\n",
       "\n",
       "    .dataframe tbody tr th {\n",
       "        vertical-align: top;\n",
       "    }\n",
       "\n",
       "    .dataframe thead th {\n",
       "        text-align: right;\n",
       "    }\n",
       "</style>\n",
       "<table border=\"1\" class=\"dataframe\">\n",
       "  <thead>\n",
       "    <tr style=\"text-align: right;\">\n",
       "      <th></th>\n",
       "      <th>team1</th>\n",
       "      <th>team2</th>\n",
       "      <th>elo1</th>\n",
       "      <th>elo2</th>\n",
       "      <th>elo_prob1</th>\n",
       "      <th>score1</th>\n",
       "      <th>score2</th>\n",
       "    </tr>\n",
       "  </thead>\n",
       "  <tbody>\n",
       "    <tr>\n",
       "      <td>0</td>\n",
       "      <td>84</td>\n",
       "      <td>94</td>\n",
       "      <td>7932</td>\n",
       "      <td>473</td>\n",
       "      <td>14839</td>\n",
       "      <td>47</td>\n",
       "      <td>0</td>\n",
       "    </tr>\n",
       "    <tr>\n",
       "      <td>1</td>\n",
       "      <td>0</td>\n",
       "      <td>105</td>\n",
       "      <td>7897</td>\n",
       "      <td>473</td>\n",
       "      <td>14830</td>\n",
       "      <td>42</td>\n",
       "      <td>0</td>\n",
       "    </tr>\n",
       "    <tr>\n",
       "      <td>2</td>\n",
       "      <td>80</td>\n",
       "      <td>0</td>\n",
       "      <td>7897</td>\n",
       "      <td>473</td>\n",
       "      <td>14830</td>\n",
       "      <td>9</td>\n",
       "      <td>0</td>\n",
       "    </tr>\n",
       "    <tr>\n",
       "      <td>3</td>\n",
       "      <td>28</td>\n",
       "      <td>25</td>\n",
       "      <td>7268</td>\n",
       "      <td>8188</td>\n",
       "      <td>7365</td>\n",
       "      <td>13</td>\n",
       "      <td>0</td>\n",
       "    </tr>\n",
       "    <tr>\n",
       "      <td>4</td>\n",
       "      <td>84</td>\n",
       "      <td>67</td>\n",
       "      <td>8615</td>\n",
       "      <td>6659</td>\n",
       "      <td>9572</td>\n",
       "      <td>44</td>\n",
       "      <td>0</td>\n",
       "    </tr>\n",
       "    <tr>\n",
       "      <td>...</td>\n",
       "      <td>...</td>\n",
       "      <td>...</td>\n",
       "      <td>...</td>\n",
       "      <td>...</td>\n",
       "      <td>...</td>\n",
       "      <td>...</td>\n",
       "      <td>...</td>\n",
       "    </tr>\n",
       "    <tr>\n",
       "      <td>16269</td>\n",
       "      <td>65</td>\n",
       "      <td>56</td>\n",
       "      <td>14361</td>\n",
       "      <td>14651</td>\n",
       "      <td>7553</td>\n",
       "      <td>40</td>\n",
       "      <td>26</td>\n",
       "    </tr>\n",
       "    <tr>\n",
       "      <td>16270</td>\n",
       "      <td>67</td>\n",
       "      <td>79</td>\n",
       "      <td>15053</td>\n",
       "      <td>14234</td>\n",
       "      <td>9477</td>\n",
       "      <td>19</td>\n",
       "      <td>12</td>\n",
       "    </tr>\n",
       "    <tr>\n",
       "      <td>16271</td>\n",
       "      <td>67</td>\n",
       "      <td>58</td>\n",
       "      <td>15320</td>\n",
       "      <td>14669</td>\n",
       "      <td>9396</td>\n",
       "      <td>22</td>\n",
       "      <td>24</td>\n",
       "    </tr>\n",
       "    <tr>\n",
       "      <td>16272</td>\n",
       "      <td>49</td>\n",
       "      <td>70</td>\n",
       "      <td>15199</td>\n",
       "      <td>14998</td>\n",
       "      <td>8526</td>\n",
       "      <td>30</td>\n",
       "      <td>35</td>\n",
       "    </tr>\n",
       "    <tr>\n",
       "      <td>16273</td>\n",
       "      <td>53</td>\n",
       "      <td>70</td>\n",
       "      <td>15026</td>\n",
       "      <td>15439</td>\n",
       "      <td>4344</td>\n",
       "      <td>2</td>\n",
       "      <td>11</td>\n",
       "    </tr>\n",
       "  </tbody>\n",
       "</table>\n",
       "<p>16274 rows × 7 columns</p>\n",
       "</div>"
      ],
      "text/plain": [
       "       team1  team2   elo1   elo2  elo_prob1  score1  score2\n",
       "0         84     94   7932    473      14839      47       0\n",
       "1          0    105   7897    473      14830      42       0\n",
       "2         80      0   7897    473      14830       9       0\n",
       "3         28     25   7268   8188       7365      13       0\n",
       "4         84     67   8615   6659       9572      44       0\n",
       "...      ...    ...    ...    ...        ...     ...     ...\n",
       "16269     65     56  14361  14651       7553      40      26\n",
       "16270     67     79  15053  14234       9477      19      12\n",
       "16271     67     58  15320  14669       9396      22      24\n",
       "16272     49     70  15199  14998       8526      30      35\n",
       "16273     53     70  15026  15439       4344       2      11\n",
       "\n",
       "[16274 rows x 7 columns]"
      ]
     },
     "execution_count": 8,
     "metadata": {},
     "output_type": "execute_result"
    }
   ],
   "source": [
    "from sklearn.preprocessing import LabelEncoder\n",
    "\n",
    "le = LabelEncoder()\n",
    "data_2.iloc[:,:] = data_2.iloc[:,:].apply(\n",
    "    lambda col:le.fit_transform(col)\n",
    ")\n",
    "data_2"
   ]
  },
  {
   "cell_type": "markdown",
   "metadata": {},
   "source": [
    "### 1. Data Training"
   ]
  },
  {
   "cell_type": "code",
   "execution_count": 9,
   "metadata": {},
   "outputs": [],
   "source": [
    "from sklearn.model_selection import train_test_split\n",
    "\n",
    "independant = [i for i in data_2.columns.tolist() if (i != \"score1\" and i != \"score2\")]\n",
    "dependant = [\"score1\", \"score2\"]\n",
    "\n",
    "x = data_2[independant]\n",
    "y = data_2[dependant]\n",
    "\n",
    "x_train, x_test, y_train, y_test = train_test_split(x, y, test_size = .2, random_state = 0)"
   ]
  },
  {
   "cell_type": "markdown",
   "metadata": {},
   "source": [
    "### 2. Regression"
   ]
  },
  {
   "cell_type": "markdown",
   "metadata": {},
   "source": [
    "### 2.1 Decision Tree:"
   ]
  },
  {
   "cell_type": "code",
   "execution_count": 10,
   "metadata": {},
   "outputs": [
    {
     "name": "stdout",
     "output_type": "stream",
     "text": [
      "Decision Tree Regressor: \n",
      "Training R^2: 1.0000\n",
      "Testing R^2: -0.8286\n"
     ]
    }
   ],
   "source": [
    "from sklearn.tree import DecisionTreeRegressor\n",
    "from sklearn.metrics import r2_score\n",
    "\n",
    "dt = DecisionTreeRegressor(random_state = 0)\n",
    "dt = dt.fit(x_train, y_train)\n",
    "\n",
    "print(\"Decision Tree Regressor: \")\n",
    "print(\"Training R^2: %4.4f\" % r2_score(y_train, dt.predict(x_train), multioutput = 'variance_weighted'))\n",
    "print(\"Testing R^2: %4.4f\" % r2_score(y_test, dt.predict(x_test), multioutput = 'variance_weighted'))"
   ]
  },
  {
   "cell_type": "markdown",
   "metadata": {},
   "source": [
    "### 2.2 Random Forest:"
   ]
  },
  {
   "cell_type": "code",
   "execution_count": 11,
   "metadata": {},
   "outputs": [
    {
     "name": "stdout",
     "output_type": "stream",
     "text": [
      "Random Forest Regressor: \n",
      "Training R^2: 0.8665\n",
      "Testing R^2: 0.0454\n"
     ]
    }
   ],
   "source": [
    "from sklearn.ensemble import RandomForestRegressor\n",
    "\n",
    "rf = RandomForestRegressor(n_estimators = 100, random_state = 0)\n",
    "rf = rf.fit(x_train, y_train)\n",
    "\n",
    "print(\"Random Forest Regressor: \")\n",
    "print(\"Training R^2: %4.4f\" % r2_score(y_train, rf.predict(x_train), multioutput = 'variance_weighted'))\n",
    "print(\"Testing R^2: %4.4f\" % r2_score(y_test, rf.predict(x_test), multioutput = 'variance_weighted'))"
   ]
  },
  {
   "cell_type": "markdown",
   "metadata": {},
   "source": [
    "#### Conclusion\n",
    "- Note that Decision Tree has a R^2 of 1 for Traning data and -0.8 for testing data, which indicates that the overfitting exists. \n",
    "- Considering the R^2 for random forest is 0.0454, the results given by random forest is relatively more reliable. "
   ]
  },
  {
   "cell_type": "code",
   "execution_count": null,
   "metadata": {},
   "outputs": [],
   "source": []
  }
 ],
 "metadata": {
  "kernelspec": {
   "display_name": "Python 3",
   "language": "python",
   "name": "python3"
  },
  "language_info": {
   "codemirror_mode": {
    "name": "ipython",
    "version": 3
   },
   "file_extension": ".py",
   "mimetype": "text/x-python",
   "name": "python",
   "nbconvert_exporter": "python",
   "pygments_lexer": "ipython3",
   "version": "3.7.4"
  }
 },
 "nbformat": 4,
 "nbformat_minor": 2
}
